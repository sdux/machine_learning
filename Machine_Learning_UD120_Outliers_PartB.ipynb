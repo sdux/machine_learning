{
 "cells": [
  {
   "cell_type": "markdown",
   "metadata": {},
   "source": [
    "## Machine Learning - Outliers\n",
    "### Part B, Removing Outliers from Point Sets\n",
    "\n",
    "This exercise deals with handling outliers from point sets within the Enron dataset.   \n",
    "The task is to identify erroneous points that may occur as a result of copied tables and discuss\n",
    "anomalies from data entry or recording errors.  \n",
    "\n",
    "#### The first task looks at identifying the largest value for bonus in the dictionary feature set\n",
    "Which is related to an entry titled 'TOTAL', which is inconsistent with the other feature set labels that consist of employee names.  Likely a data table copying error.\n",
    "\n",
    "#### The second part looks at identifying anomalies\n",
    "\n",
    "Here the employees with exceptionaly large bonus and salary appear as outliers relative to the rest of the dataset.  These data points are valid and the executives receiving the compensation would be anomalies relative to the bulk of employees within the dataset."
   ]
  },
  {
   "cell_type": "code",
   "execution_count": 2,
   "metadata": {
    "collapsed": true
   },
   "outputs": [],
   "source": [
    "%matplotlib inline\n",
    "import pickle\n",
    "import sys\n",
    "import matplotlib.pyplot\n",
    "sys.path.append(\"../tools/\")\n",
    "from feature_format import featureFormat, targetFeatureSplit\n",
    "import numpy as np"
   ]
  },
  {
   "cell_type": "markdown",
   "metadata": {},
   "source": [
    "#### Create a function for plotting dictionary item values"
   ]
  },
  {
   "cell_type": "code",
   "execution_count": 3,
   "metadata": {
    "collapsed": true
   },
   "outputs": [],
   "source": [
    "def plot_dict (data):\n",
    "    for point in data:\n",
    "        salary = point[0]\n",
    "        bonus = point[1]\n",
    "        matplotlib.pyplot.scatter( salary, bonus )\n",
    "\n",
    "    matplotlib.pyplot.xlabel(\"salary\")\n",
    "    matplotlib.pyplot.ylabel(\"bonus\")\n",
    "    matplotlib.pyplot.title(\"Enron Employee Bonus and Salary data\")\n",
    "    matplotlib.pyplot.show()"
   ]
  },
  {
   "cell_type": "code",
   "execution_count": 6,
   "metadata": {
    "collapsed": false
   },
   "outputs": [
    {
     "name": "stdout",
     "output_type": "stream",
     "text": [
      "Max Salary 26704229.0\n",
      "Max Bonus 97343619.0\n"
     ]
    },
    {
     "data": {
      "image/png": "[encoded data removed]",
      "text/plain": [
       "<matplotlib.figure.Figure at 0x88cb908>"
      ]
     },
     "metadata": {},
     "output_type": "display_data"
    },
    {
     "name": "stdout",
     "output_type": "stream",
     "text": [
      "First pass outlier removal\n",
      "Found them :  TOTAL\n",
      "Removing TOTAL from dataset\n"
     ]
    },
    {
     "data": {
      "image/png": "[encoded data removed]",
      "text/plain": [
       "<matplotlib.figure.Figure at 0x45e4278>"
      ]
     },
     "metadata": {},
     "output_type": "display_data"
    },
    {
     "name": "stdout",
     "output_type": "stream",
     "text": [
      "Searching for remaining outliers..\n",
      "Found them :  LAY KENNETH L Salary 1072321 bonus 7000000\n",
      "Found them :  SKILLING JEFFREY K Salary 1111258 bonus 5600000\n"
     ]
    }
   ],
   "source": [
    "### read in data dictionary, convert to numpy array\n",
    "data_dict = pickle.load( open(\"../final_project/final_project_dataset.pkl\", \"r\") )\n",
    "\n",
    "features = [\"salary\", \"bonus\"]\n",
    "data = featureFormat(data_dict, features)\n",
    "\n",
    "print 'Max Salary',np.max(data[:,0])\n",
    "max_salary = np.max(data[:,0])\n",
    "print 'Max Bonus',np.max(data[:,1])\n",
    "max_bonus = np.max(data[:,1])\n",
    "\n",
    "plot_dict(data)\n",
    "\n",
    "print 'First pass outlier removal'\n",
    "for ppl in data_dict.keys():\n",
    "    if(data_dict[ppl]['salary']==max_salary and data_dict[ppl]['bonus']==max_bonus):\n",
    "        print 'Found them : ',ppl\n",
    "        remove_item = ppl\n",
    "      \n",
    "print 'Removing',remove_item,'from dataset'\n",
    "# Remove the outlier\n",
    "data_dict.pop(remove_item,0)\n",
    "# Reset data to cleaned set\n",
    "data = featureFormat(data_dict, features)\n",
    "\n",
    "plot_dict(data)\n",
    "\n",
    "bandits = []\n",
    "print 'Searching for remaining outliers..'\n",
    "for ppl in data_dict.keys():\n",
    "    if(data_dict[ppl]['salary'] != 'NaN' and data_dict[ppl]['bonus'] != 'NaN'):\n",
    "        if((data_dict[ppl]['salary']>1000000) and (data_dict[ppl]['bonus']>5000000)):\n",
    "            print 'Found them : ',ppl,'Salary',data_dict[ppl]['salary'],'bonus',data_dict[ppl]['bonus'] \n",
    "            bandits += ppl\n",
    "            \n"
   ]
  }
 ],
 "metadata": {
  "anaconda-cloud": {},
  "kernelspec": {
   "display_name": "Python [py27]",
   "language": "python",
   "name": "Python [py27]"
  },
  "language_info": {
   "codemirror_mode": {
    "name": "ipython",
    "version": 2
   },
   "file_extension": ".py",
   "mimetype": "text/x-python",
   "name": "python",
   "nbconvert_exporter": "python",
   "pygments_lexer": "ipython2",
   "version": "2.7.12"
  }
 },
 "nbformat": 4,
 "nbformat_minor": 0
}
