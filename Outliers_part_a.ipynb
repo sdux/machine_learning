{
 "cells": [
  {
   "cell_type": "markdown",
   "metadata": {},
   "source": [
    "### Outliers\n",
    "#### Handling outliers in linear regression\n",
    "\n",
    "Excercise in removing 10% of the poorest fit data points from an initial regression.\n",
    "\n",
    "The example looks at net worth vs age and is from Udacity's intro to machine learning course:  \n",
    "https://www.udacity.com/course/intro-to-machine-learning--ud120"
   ]
  },
  {
   "cell_type": "code",
   "execution_count": 31,
   "metadata": {
    "collapsed": false
   },
   "outputs": [
    {
     "name": "stdout",
     "output_type": "stream",
     "text": [
      "Slope Original data set : 5.07793064344\n",
      "Variance / Score  : 0.878262478835\n"
     ]
    }
   ],
   "source": [
    "%matplotlib inline\n",
    "import random\n",
    "import numpy as np\n",
    "import matplotlib.pyplot as plt\n",
    "import pickle\n",
    "\n",
    "### load up some practice data with outliers in it\n",
    "ages = pickle.load( open(\"practice_outliers_ages.pkl\", \"r\") )\n",
    "net_worths = pickle.load( open(\"practice_outliers_net_worths.pkl\", \"r\") )\n",
    "\n",
    "ages = np.reshape( np.array(ages), (len(ages), 1))\n",
    "net_worths = np.reshape( np.array(net_worths), (len(net_worths), 1))\n",
    "from sklearn.cross_validation import train_test_split\n",
    "ages_train, ages_test, net_worths_train, net_worths_test = train_test_split(ages, net_worths, test_size=0.1, random_state=42)\n",
    "\n",
    "from sklearn import linear_model\n",
    "reg = linear_model.LinearRegression()\n",
    "\n",
    "reg.fit(ages_train,net_worths_train)\n",
    "print 'Slope Original data set :',reg.coef_[0][0]\n",
    "print 'Variance / Score  :',reg.score(ages_test,net_worths_test)\n",
    "\n"
   ]
  },
  {
   "cell_type": "code",
   "execution_count": 29,
   "metadata": {
    "collapsed": false
   },
   "outputs": [],
   "source": [
    "# Function to remove 10% of data points with poorest fit\n",
    "def outlierCleaner(predictions, ages, net_worths):\n",
    "    temp_data = np.column_stack((predictions,ages,net_worths,np.abs(predictions-net_worths)))\n",
    "    print 'Original data contains',len(temp_data),'samples'\n",
    "    print 'Keeping 90% of the samples with best fit'\n",
    "    #sort temp data by largest error\n",
    "    temp_data_sorted = temp_data[temp_data[:, 3].argsort()]\n",
    "    # keep 90% of the data with lowest error\n",
    "    temp_data = temp_data_sorted[0:int(len(temp_data)*0.9)]\n",
    "    cleaned_data = np.column_stack((temp_data[:,1],temp_data[:,2],temp_data[:,2]-temp_data[:,3]))\n",
    "    print 'Clean data contains',len(cleaned_data),'samples'\n",
    "\n",
    "    return cleaned_data\n"
   ]
  },
  {
   "cell_type": "code",
   "execution_count": 32,
   "metadata": {
    "collapsed": false
   },
   "outputs": [
    {
     "data": {
      "image/png": "[encoded data removed]",
      "text/plain": [
       "<matplotlib.figure.Figure at 0xb390470>"
      ]
     },
     "metadata": {},
     "output_type": "display_data"
    },
    {
     "name": "stdout",
     "output_type": "stream",
     "text": [
      "Original data contains 90 samples\n",
      "Keeping 90% of the samples with best fit\n",
      "Clean data contains 81 samples\n",
      "Clean Slope : 6.36859480694\n",
      "Clean Score : 0.983189455396\n"
     ]
    },
    {
     "data": {
      "image/png": "[encoded data removed]",
      "text/plain": [
       "<matplotlib.figure.Figure at 0xb44ee48>"
      ]
     },
     "metadata": {},
     "output_type": "display_data"
    }
   ],
   "source": [
    "try:\n",
    "    plt.plot(ages, reg.predict(ages), color=\"blue\")\n",
    "except NameError:\n",
    "    pass\n",
    "plt.xlabel(\"ages\")\n",
    "plt.ylabel(\"net worths\")\n",
    "plt.scatter(ages, net_worths)\n",
    "plt.show()\n",
    "\n",
    "\n",
    "### Identify and remove 10% of data points with the poorest fit to the initial regression\n",
    "try:\n",
    "    predictions = reg.predict(ages_train)\n",
    "    cleaned_data = outlierCleaner( predictions, ages_train, net_worths_train )\n",
    "except NameError:\n",
    "    print \"your regression object doesn't exist, or isn't name reg\"\n",
    "    print \"can't make predictions to use in identifying outliers\"\n",
    "\n",
    "### only run this code if cleaned_data is returning data\n",
    "if len(cleaned_data) > 0:\n",
    "    ages, net_worths, errors = zip(*cleaned_data)\n",
    "    ages = np.reshape( np.array(ages), (len(ages), 1))\n",
    "    net_worths = np.reshape( np.array(net_worths), (len(net_worths), 1))\n",
    "\n",
    "    ### Refit the cleaned data\n",
    "    try:\n",
    "        reg.fit(ages, net_worths)\n",
    "        plt.plot(ages, reg.predict(ages), color=\"blue\")\n",
    "        print 'Clean Slope :',reg.coef_[0][0]\n",
    "        print 'Clean Score :',reg.score(ages_test,net_worths_test)\n",
    "    except NameError:\n",
    "        print \"you don't seem to have regression imported/created,\"\n",
    "        print \"   or else your regression object isn't named reg\"\n",
    "        print \"   either way, only draw the scatter plot of the cleaned data\"\n",
    "    plt.scatter(ages, net_worths)\n",
    "    plt.xlabel(\"ages\")\n",
    "    plt.ylabel(\"net worths\")\n",
    "    plt.show()\n",
    "\n",
    "\n",
    "else:\n",
    "    print \"outlierCleaner() is returning an empty list, no refitting to be done\"\n",
    "\n"
   ]
  }
 ],
 "metadata": {
  "kernelspec": {
   "display_name": "Python [py27]",
   "language": "python",
   "name": "Python [py27]"
  },
  "language_info": {
   "codemirror_mode": {
    "name": "ipython",
    "version": 2
   },
   "file_extension": ".py",
   "mimetype": "text/x-python",
   "name": "python",
   "nbconvert_exporter": "python",
   "pygments_lexer": "ipython2",
   "version": "2.7.12"
  }
 },
 "nbformat": 4,
 "nbformat_minor": 0
}
